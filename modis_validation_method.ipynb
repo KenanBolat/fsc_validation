{
 "cells": [
  {
   "cell_type": "code",
   "execution_count": 1,
   "metadata": {},
   "outputs": [],
   "source": [
    "# import modules \n",
    "import os\n",
    "import datetime\n",
    "import glob\n",
    "import rasterio\n",
    "from rasterio.merge import merge\n",
    "from collections import Counter\n",
    "import pandas as pd \n",
    "\n",
    "import numpy as np\n",
    "from rasterio.plot import show\n",
    "import matplotlib.pyplot as plt\n",
    "start = datetime.datetime.now()\n"
   ]
  },
  {
   "cell_type": "code",
   "execution_count": 2,
   "metadata": {},
   "outputs": [],
   "source": [
    "#define paths \n",
    "processing_path = \"/media/knn/DATA/modis_hdf_data\"\n",
    "processing_path_modis = os.path.join(processing_path, \"merged_daily\")\n",
    "processing_path_mars = os.path.join(processing_path, \"mars_data\")\n",
    "snow_threshold = 50 \n"
   ]
  },
  {
   "cell_type": "code",
   "execution_count": 3,
   "metadata": {},
   "outputs": [
    {
     "name": "stdout",
     "output_type": "stream",
     "text": [
      "212 202\n"
     ]
    }
   ],
   "source": [
    "modis_set = list(set([file_.split(\"_\")[1] for file_ in glob.glob1(processing_path_modis, \"*.tif\" )]))\n",
    "mars_set = list(set([file_.split(\"_\")[1] for file_ in glob.glob1(processing_path_mars, \"*.tif\" )]))\n",
    "modis_set.sort()\n",
    "mars_set.sort()\n",
    "    \n",
    "print(len(modis_set),  len(mars_set) )\n",
    "\n"
   ]
  },
  {
   "cell_type": "code",
   "execution_count": null,
   "metadata": {},
   "outputs": [
    {
     "name": "stdout",
     "output_type": "stream",
     "text": [
      "20181101 2018-11-01 00:00:00\n",
      "20181102 2018-11-02 00:00:00\n",
      "20181103 2018-11-03 00:00:00\n",
      "20181104 2018-11-04 00:00:00\n",
      "20181105 2018-11-05 00:00:00\n",
      "20181106 2018-11-06 00:00:00\n"
     ]
    }
   ],
   "source": [
    "df = pd.DataFrame(columns= [\"Date\",\n",
    "                            \"SumA\",\"SumB\",\"SumC\",\"SumD\",\n",
    "                            \"POD\",\"FAR\",\"Accuracy\", \n",
    "                            \"Start\", \"Duration\"],\n",
    "                  index=modis_set)\n",
    "df_data = pd.DataFrame(columns= [\"Month\",\n",
    "                            \"A\", \"B\", \"C\", \"D\"],\n",
    "                  index=[11,12,1,2,3,4,5])\n",
    "start = datetime.datetime.now()\n",
    "prev = 0 ; \n",
    "for en, date_ in  enumerate(modis_set):\n",
    "    inner = datetime.datetime.now()\n",
    "    in_date_format = datetime.datetime.strptime(date_, \"%Y%m%d\")\n",
    "    month = in_date_format.month\n",
    "    if prev != month or en == 0 :\n",
    "        A,B,C,D =[np.zeros((8999, 35999)) for row in range(4)]\n",
    "        df_data.loc[month] =[month, A, B ,C, D]\n",
    "        \n",
    "    \n",
    "        \n",
    "    print(date_, in_date_format )\n",
    "    modis_data = rasterio.open(os.path.join(processing_path_modis, \"MOD10A1_\"+date_+\"_europe_resampled.tif\"))\n",
    "    \n",
    "    try: \n",
    "        mars_data = rasterio.open(os.path.join(processing_path_mars, \"h35_\"+date_+\"_day_TSMS.tif\"))\n",
    "    except: \n",
    "        continue \n",
    "    mars_data = mars_data.read(1)\n",
    "    modis_data = modis_data.read(1)\n",
    "    \n",
    "    data_inter = []\n",
    "    data_inter = np.where(mars_data <=100, mars_data, 255)\n",
    "    data_inter = np.where(data_inter <snow_threshold, 0, data_inter )\n",
    "    data_inter_mars = np.where((data_inter >= snow_threshold ) & (data_inter<=100), 1, data_inter)\n",
    "    \n",
    "    data_inter = []\n",
    "    data_inter = np.where(modis_data <=100, modis_data, 255)\n",
    "    data_inter = np.where(data_inter < snow_threshold, 0, data_inter )\n",
    "    data_inter_modis = np.where((data_inter >= snow_threshold) & (data_inter<=100), 1, data_inter)\n",
    "\n",
    "    # Hits(A)\n",
    "    A = np.where((data_inter_modis == 1) &  (data_inter_mars == 1),1, 0)\n",
    "    # False Alarms (B)\n",
    "    B = np.where((data_inter_modis == 0) &  (data_inter_mars == 1),1, 0)\n",
    "    # Misses (C)\n",
    "    C = np.where((data_inter_modis == 1) &  (data_inter_mars == 0),1, 0)\n",
    "    # Correct Negatives (D)\n",
    "    D = np.where((data_inter_modis ==0) &  (data_inter_mars ==0),1, 0) \n",
    "    \n",
    "    a = np.sum(A)\n",
    "    b = np.sum(B)\n",
    "    c = np.sum(C)\n",
    "    d = np.sum(D)\n",
    "\n",
    "    pod = a / (a+c)\n",
    "    far = b / (a+b)\n",
    "    acc = (a+d) / (a+b+c+d)\n",
    "    end = datetime.datetime.now()\n",
    "    duration = end - inner \n",
    "    df.loc[date_] = [pd.Timestamp(date_),a,b,c,d,pod, far, acc, start, duration.total_seconds()]\n",
    "    df_data.loc[month] = [month, \n",
    "                          df_data.loc[month]['A'] + A,\n",
    "                          df_data.loc[month]['B'] + B,\n",
    "                          df_data.loc[month]['C'] + C,\n",
    "                          df_data.loc[month]['D'] + D]\n",
    "    prev = month"
   ]
  },
  {
   "cell_type": "code",
   "execution_count": 5,
   "metadata": {},
   "outputs": [
    {
     "data": {
      "text/plain": [
       "4.0"
      ]
     },
     "execution_count": 5,
     "metadata": {},
     "output_type": "execute_result"
    }
   ],
   "source": [
    "np.max(df_data.loc[month]['A'])"
   ]
  },
  {
   "cell_type": "code",
   "execution_count": 11,
   "metadata": {
    "scrolled": true
   },
   "outputs": [
    {
     "data": {
      "text/plain": [
       "array([[0, 0, 0, ..., 0, 0, 0],\n",
       "       [0, 0, 0, ..., 0, 0, 0],\n",
       "       [0, 0, 0, ..., 0, 0, 0],\n",
       "       ...,\n",
       "       [0, 0, 0, ..., 0, 0, 0],\n",
       "       [0, 0, 0, ..., 0, 0, 0],\n",
       "       [0, 0, 0, ..., 0, 0, 0]])"
      ]
     },
     "execution_count": 11,
     "metadata": {},
     "output_type": "execute_result"
    }
   ],
   "source": [
    "A"
   ]
  },
  {
   "cell_type": "code",
   "execution_count": 9,
   "metadata": {},
   "outputs": [
    {
     "data": {
      "text/plain": [
       "Month    [[0, 0, 0, 0, 0, 0, 0, 0, 0, 0, 0, 0, 0, 0, 0,...\n",
       "A        [[0, 0, 0, 0, 0, 0, 0, 0, 0, 0, 0, 0, 0, 0, 0,...\n",
       "Name: 11, dtype: object"
      ]
     },
     "execution_count": 9,
     "metadata": {},
     "output_type": "execute_result"
    }
   ],
   "source": [
    "df_data.loc[month] + A  "
   ]
  },
  {
   "cell_type": "code",
   "execution_count": 19,
   "metadata": {},
   "outputs": [],
   "source": [
    "df.to_excel(os.path.join(processing_path, \"data_frame_last_part.xlsx\"))  "
   ]
  },
  {
   "cell_type": "code",
   "execution_count": 3,
   "metadata": {},
   "outputs": [],
   "source": [
    "# Read Data \n",
    "\n",
    "date_ = \"20181101\"\n",
    "# date_flag = \"MOD10A1_20190524_europe_resampled.tif\"\n",
    "mars_data = rasterio.open(os.path.join(processing_path_test, \"MOD10A1_\"+date_+\"_europe_resampled.tif\"))\n",
    "modis_data = rasterio.open(os.path.join(processing_path_test, \"modis_\"+date_+\".tif\"))"
   ]
  },
  {
   "cell_type": "code",
   "execution_count": 22,
   "metadata": {},
   "outputs": [
    {
     "data": {
      "image/png": "[encoded data removed]",
      "text/plain": [
       "<Figure size 432x288 with 1 Axes>"
      ]
     },
     "metadata": {
      "needs_background": "light"
     },
     "output_type": "display_data"
    },
    {
     "data": {
      "text/plain": [
       "<AxesSubplot:>"
      ]
     },
     "execution_count": 22,
     "metadata": {},
     "output_type": "execute_result"
    }
   ],
   "source": [
    "# Display modis data \n",
    "show(modis_data, cmap='terrain')"
   ]
  },
  {
   "cell_type": "code",
   "execution_count": 20,
   "metadata": {},
   "outputs": [
    {
     "data": {
      "image/png": "[encoded data removed]",
      "text/plain": [
       "<Figure size 432x288 with 1 Axes>"
      ]
     },
     "metadata": {
      "needs_background": "light"
     },
     "output_type": "display_data"
    },
    {
     "data": {
      "text/plain": [
       "<AxesSubplot:>"
      ]
     },
     "execution_count": 20,
     "metadata": {},
     "output_type": "execute_result"
    }
   ],
   "source": [
    "# Display modis data \n",
    "show(mars_data, cmap='terrain')"
   ]
  },
  {
   "cell_type": "code",
   "execution_count": 4,
   "metadata": {},
   "outputs": [],
   "source": [
    "# read data into memory \n",
    "mars_data = mars_data.read(1)\n",
    "modis_data = modis_data.read(1)"
   ]
  },
  {
   "cell_type": "code",
   "execution_count": 5,
   "metadata": {},
   "outputs": [
    {
     "name": "stdout",
     "output_type": "stream",
     "text": [
      "[  0.   1. 255.]\n"
     ]
    }
   ],
   "source": [
    "#create intermediate data  for mars_data \n",
    "data_inter = np.where(mars_data <=100, mars_data, 255)\n",
    "data_inter = np.where(data_inter <snow_threshold, 0, data_inter )\n",
    "data_inter_mars = np.where((data_inter >= snow_threshold ) & (data_inter<=100), 1, data_inter)\n",
    "print(np.unique(data_inter_mars))\n",
    "\n",
    "# show(data_inter, cmap='terrain')\n",
    "# 0:land 1:snow 255:other"
   ]
  },
  {
   "cell_type": "code",
   "execution_count": 10,
   "metadata": {},
   "outputs": [
    {
     "name": "stdout",
     "output_type": "stream",
     "text": [
      "[  0   1 255]\n"
     ]
    }
   ],
   "source": [
    "#create intermediate data  for modis_data \n",
    "data_inter = np.where(modis_data <=100, modis_data, 255)\n",
    "data_inter = np.where(data_inter < snow_threshold, 0, data_inter )\n",
    "data_inter_modis = np.where((data_inter >= snow_threshold) & (data_inter<=100), 1, data_inter)\n",
    "print(np.unique(data_inter_modis))\n",
    "\n",
    "# show(data_inter, cmap='terrain')\n",
    "# 0:land 1:snow 255:other\n"
   ]
  },
  {
   "cell_type": "code",
   "execution_count": 33,
   "metadata": {},
   "outputs": [],
   "source": [
    "t = np.where(data_inter_snow==0,1, 255)"
   ]
  },
  {
   "cell_type": "code",
   "execution_count": 36,
   "metadata": {},
   "outputs": [
    {
     "data": {
      "text/plain": [
       "<matplotlib.image.AxesImage at 0x7fee2838a340>"
      ]
     },
     "execution_count": 36,
     "metadata": {},
     "output_type": "execute_result"
    },
    {
     "data": {
      "image/png": "[encoded data removed]",
      "text/plain": [
       "<Figure size 432x288 with 1 Axes>"
      ]
     },
     "metadata": {
      "needs_background": "light"
     },
     "output_type": "display_data"
    }
   ],
   "source": [
    "plt.imshow(t)"
   ]
  },
  {
   "cell_type": "code",
   "execution_count": 11,
   "metadata": {},
   "outputs": [],
   "source": [
    "# Hits(A)\n",
    "A = np.where((data_inter_modis == 1) &  (data_inter_mars == 1),1, 0)\n",
    "\n",
    "# False Alarms (B)\n",
    "B = np.where((data_inter_modis == 0) &  (data_inter_mars == 1),1, 0)\n",
    "\n",
    "# Misses (C)\n",
    "C = np.where((data_inter_modis == 1) &  (data_inter_mars == 0),1, 0)\n",
    "\n",
    "# Correct Negatives (D)\n",
    "D = np.where((data_inter_modis ==0) &  (data_inter_mars ==0),1, 0) \n"
   ]
  },
  {
   "cell_type": "code",
   "execution_count": 14,
   "metadata": {},
   "outputs": [
    {
     "data": {
      "text/plain": [
       "(array([0, 1]), array([323676607,    278394]))"
      ]
     },
     "execution_count": 14,
     "metadata": {},
     "output_type": "execute_result"
    }
   ],
   "source": [
    "np.unique(A, return_counts=True)"
   ]
  },
  {
   "cell_type": "code",
   "execution_count": 26,
   "metadata": {},
   "outputs": [],
   "source": [
    "a = np.sum(A)\n",
    "b = np.sum(B)\n",
    "c = np.sum(C)\n",
    "d = np.sum(D)\n",
    "\n",
    "pod = a / (a+c)\n",
    "far = b/ (a+b)\n",
    "acc = (a+d)/(a+b+c+d)"
   ]
  },
  {
   "cell_type": "code",
   "execution_count": 28,
   "metadata": {},
   "outputs": [
    {
     "data": {
      "text/plain": [
       "0.7073144085387697"
      ]
     },
     "execution_count": 28,
     "metadata": {},
     "output_type": "execute_result"
    }
   ],
   "source": [
    "pod"
   ]
  },
  {
   "cell_type": "code",
   "execution_count": 30,
   "metadata": {},
   "outputs": [
    {
     "data": {
      "text/plain": [
       "0.9656260516585112"
      ]
     },
     "execution_count": 30,
     "metadata": {},
     "output_type": "execute_result"
    }
   ],
   "source": [
    "acc"
   ]
  },
  {
   "cell_type": "code",
   "execution_count": 32,
   "metadata": {},
   "outputs": [
    {
     "data": {
      "text/plain": [
       "array([  0.,  34.,  35.,  36.,  37.,  38.,  39.,  40.,  41.,  42.,  43.,\n",
       "        44.,  45.,  46.,  47.,  48.,  49.,  50.,  51.,  52.,  53.,  54.,\n",
       "        55.,  56.,  57.,  58.,  59.,  60.,  61.,  62.,  63.,  64.,  65.,\n",
       "        66.,  67.,  68.,  69.,  70.,  71.,  72.,  73.,  74.,  75.,  76.,\n",
       "        77.,  78.,  79.,  80.,  81.,  82.,  83.,  84.,  85.,  86.,  87.,\n",
       "        88.,  89.,  90.,  91.,  92.,  93.,  94.,  95.,  96.,  97.,  98.,\n",
       "        99., 100., 251., 252., 253.], dtype=float32)"
      ]
     },
     "execution_count": 32,
     "metadata": {},
     "output_type": "execute_result"
    }
   ],
   "source": [
    "np.unique(mars_data)"
   ]
  },
  {
   "cell_type": "code",
   "execution_count": 31,
   "metadata": {},
   "outputs": [
    {
     "name": "stdout",
     "output_type": "stream",
     "text": [
      "2021-01-22 01:05:44.871526 0:34:53.512424\n"
     ]
    }
   ],
   "source": [
    "end = datetime.datetime.now()\n",
    "print(start, end-start)\n"
   ]
  }
 ],
 "metadata": {
  "kernelspec": {
   "display_name": "Python 3",
   "language": "python",
   "name": "python3"
  },
  "language_info": {
   "codemirror_mode": {
    "name": "ipython",
    "version": 3
   },
   "file_extension": ".py",
   "mimetype": "text/x-python",
   "name": "python",
   "nbconvert_exporter": "python",
   "pygments_lexer": "ipython3",
   "version": "3.8.6"
  }
 },
 "nbformat": 4,
 "nbformat_minor": 4
}
